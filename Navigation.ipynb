{
  "nbformat": 4,
  "nbformat_minor": 0,
  "metadata": {
    "colab": {
      "name": "Navigation.ipynb",
      "provenance": []
    },
    "kernelspec": {
      "name": "python3",
      "display_name": "Python 3"
    },
    "language_info": {
      "name": "python"
    }
  },
  "cells": [
    {
      "cell_type": "markdown",
      "source": [
        "## **I wanted to experiment with navigation algorithms, generating an efficient path between two points within a network. Below is my first attempt.**"
      ],
      "metadata": {
        "id": "FLnc4Kg7QGgv"
      }
    },
    {
      "cell_type": "code",
      "source": [
        "import random, copy\n",
        "import matplotlib.pyplot as plt\n",
        "from matplotlib import colors\n",
        "import numpy as np\n",
        "from IPython.display import clear_output \n",
        "import time"
      ],
      "metadata": {
        "id": "t7trQCppNoI_"
      },
      "execution_count": 2,
      "outputs": []
    },
    {
      "cell_type": "markdown",
      "source": [
        "______________________________________________________________________________"
      ],
      "metadata": {
        "id": "gItVN96I5McB"
      }
    },
    {
      "cell_type": "markdown",
      "source": [
        "First we need a function that generates a network to navigate. I'll keep it relatively simple with a list of lists that will represent a grid of squares that can be navigated in each direction to neighbouring squares. Some square ares not navigable and will serve as barriers. Navigable squares will be represented with a 0, barriers will be a 1."
      ],
      "metadata": {
        "id": "6DwR4t0kR38Z"
      }
    },
    {
      "cell_type": "code",
      "execution_count": 1,
      "metadata": {
        "id": "XajxG77lYOA4"
      },
      "outputs": [],
      "source": [
        "def generate_grid(height, width, barrier_rate):\n",
        "\n",
        "    limiting = width\n",
        "\n",
        "    if width > height:\n",
        "        limiting = height\n",
        "\n",
        "    if barrier_rate > 40:\n",
        "        barrier_rate = 40\n",
        "\n",
        "    grid = [[0 for x in range(width)] for y in range(height)]\n",
        "\n",
        "    for y in range(len(grid)):\n",
        "        for x in range(len(grid[0])):\n",
        "            barrier = random.randint(1,100//barrier_rate)\n",
        "            if barrier == 1:\n",
        "                barrier_len = random.randint(1,round(limiting**0.5))\n",
        "                barrier_orient = random.randint(0,1)\n",
        "                if barrier_orient == 0:\n",
        "                    if barrier_len > len(grid[0]) - x:\n",
        "                        barrier_len = len(grid[0]) - x\n",
        "                    grid[y][x:x+barrier_len] = [1 for i in range(barrier_len)]\n",
        "                else:\n",
        "                    if barrier_len > len(grid) - y:\n",
        "                        barrier_len = len(grid) - y\n",
        "                    for j in range(barrier_len):\n",
        "                        grid[y+j][x] = 1\n",
        "    return grid"
      ]
    },
    {
      "cell_type": "code",
      "source": [
        "test_grid = generate_grid(20,20,10)\n",
        "test_grid"
      ],
      "metadata": {
        "colab": {
          "base_uri": "https://localhost:8080/",
          "height": 0
        },
        "id": "S06-aYOdOwNp",
        "outputId": "5df66cb1-1a63-4480-da5e-807ce61b5e73"
      },
      "execution_count": 10,
      "outputs": [
        {
          "output_type": "execute_result",
          "data": {
            "text/plain": [
              "[[0, 1, 1, 1, 1, 0, 0, 0, 0, 1, 0, 0, 0, 0, 1, 0, 0, 0, 1, 0],\n",
              " [0, 0, 1, 0, 0, 0, 0, 0, 0, 1, 1, 1, 0, 0, 0, 0, 1, 0, 1, 0],\n",
              " [0, 0, 0, 0, 0, 0, 0, 0, 1, 1, 0, 0, 0, 0, 0, 0, 1, 0, 1, 0],\n",
              " [0, 1, 1, 0, 0, 0, 0, 0, 1, 1, 0, 0, 0, 0, 0, 0, 0, 0, 1, 0],\n",
              " [1, 1, 1, 0, 0, 1, 0, 0, 1, 0, 0, 0, 0, 0, 0, 0, 0, 0, 0, 0],\n",
              " [0, 0, 0, 0, 0, 0, 0, 0, 1, 0, 0, 0, 0, 0, 0, 0, 1, 1, 0, 0],\n",
              " [0, 0, 0, 0, 0, 0, 0, 0, 0, 0, 0, 1, 0, 0, 0, 0, 0, 0, 1, 1],\n",
              " [0, 0, 0, 0, 0, 0, 0, 1, 1, 1, 0, 0, 0, 0, 0, 0, 0, 1, 1, 0],\n",
              " [0, 0, 1, 0, 0, 1, 1, 0, 0, 0, 0, 0, 0, 0, 0, 0, 0, 0, 1, 1],\n",
              " [0, 0, 1, 0, 0, 0, 0, 0, 0, 0, 0, 0, 0, 0, 0, 0, 0, 0, 0, 0],\n",
              " [1, 1, 1, 0, 0, 0, 0, 0, 1, 1, 1, 0, 0, 0, 0, 0, 0, 0, 0, 1],\n",
              " [1, 1, 0, 0, 0, 0, 0, 0, 1, 0, 0, 0, 0, 0, 0, 0, 0, 0, 0, 0],\n",
              " [1, 0, 1, 1, 1, 1, 1, 1, 0, 1, 0, 0, 1, 0, 0, 0, 0, 0, 1, 1],\n",
              " [1, 0, 0, 0, 0, 0, 0, 0, 0, 1, 0, 0, 1, 0, 0, 0, 1, 1, 1, 1],\n",
              " [0, 0, 0, 0, 0, 0, 0, 0, 0, 1, 0, 0, 1, 1, 1, 1, 0, 0, 0, 0],\n",
              " [0, 0, 0, 0, 0, 0, 0, 0, 1, 1, 0, 0, 0, 0, 0, 0, 0, 0, 0, 0],\n",
              " [1, 0, 0, 0, 0, 0, 0, 0, 0, 1, 0, 0, 0, 0, 0, 0, 0, 0, 0, 0],\n",
              " [1, 0, 1, 0, 0, 0, 0, 0, 0, 0, 0, 0, 0, 0, 0, 0, 0, 0, 0, 0],\n",
              " [1, 0, 1, 0, 0, 0, 0, 0, 0, 0, 0, 0, 0, 0, 0, 0, 0, 0, 0, 0],\n",
              " [0, 0, 0, 0, 0, 0, 1, 0, 0, 0, 0, 0, 0, 0, 0, 0, 0, 0, 0, 0]]"
            ]
          },
          "metadata": {},
          "execution_count": 10
        }
      ]
    },
    {
      "cell_type": "markdown",
      "source": [
        "______________________________________________________________________________"
      ],
      "metadata": {
        "id": "BJy8Tnxy5OUR"
      }
    },
    {
      "cell_type": "markdown",
      "source": [
        "For clarity, the below function displays the network using matplotlib.imshow"
      ],
      "metadata": {
        "id": "HLv_ndjATO1x"
      }
    },
    {
      "cell_type": "code",
      "source": [
        "def show_grid(grid, figsize = (15,15)):\n",
        "\n",
        "    # For specific case when so route can be found (relevant later in notebook)\n",
        "    if not grid[0]:\n",
        "        return 'No possible route'\n",
        "\n",
        "    # Displays coloured grid with coordinates as axis labels\n",
        "    cmap = cmap = colors.ListedColormap(['LightGrey', 'coral', 'LawnGreen', 'g', 'r'])\n",
        "    fig, ax = plt.subplots(figsize = figsize)\n",
        "    bounds = [0,0.5,1.5,2.5,3.5,4]\n",
        "    norm = colors.BoundaryNorm(bounds, cmap.N)\n",
        "    ax.grid(which='major', axis='both', linestyle='-', color='k', linewidth=1)\n",
        "    ax.set_xticks(ticks = np.arange(-.5, len(grid[0]), 1));\n",
        "    ax.set_yticks(np.arange(-.5, len(grid), 1));\n",
        "    ax.tick_params(labelbottom=True,labelleft=True, labeltop = True, labelright = True)\n",
        "    ax.set_xticklabels(range(0,len(grid[0])))\n",
        "    ax.set_yticklabels(range(0,len(grid)))\n",
        "    ax.imshow(grid, cmap=cmap, norm=norm)\n",
        "    plt.show()"
      ],
      "metadata": {
        "id": "sLCTJrnNOi2x"
      },
      "execution_count": 46,
      "outputs": []
    },
    {
      "cell_type": "code",
      "source": [
        "show_grid(test_grid,(15,15))"
      ],
      "metadata": {
        "colab": {
          "base_uri": "https://localhost:8080/",
          "height": 880
        },
        "id": "Mc95NJRYPESA",
        "outputId": "6af26074-6775-4532-d485-21795a43b425"
      },
      "execution_count": 13,
      "outputs": [
        {
          "output_type": "display_data",
          "data": {
            "text/plain": [
              "<Figure size 1080x1080 with 1 Axes>"
            ],
            "image/png": "[encoded data removed]"
          },
          "metadata": {
            "needs_background": "light"
          }
        }
      ]
    },
    {
      "cell_type": "markdown",
      "source": [
        "______________________________________________________________________________"
      ],
      "metadata": {
        "id": "dQ8n0rve5VNs"
      }
    },
    {
      "cell_type": "markdown",
      "source": [
        "The system will use cartesian style coordinates to index each square. The below function finds the coordinates of all neighbouring squares, given a single input square."
      ],
      "metadata": {
        "id": "oTKeAw6aT7-i"
      }
    },
    {
      "cell_type": "code",
      "source": [
        "def get_neighbours(y,x,grid):\n",
        "    #lists neighbour squares for a given square\n",
        "\n",
        "    neighbours = []\n",
        "\n",
        "    for i in [-1,1]:\n",
        "        \n",
        "        if -1 < y + i < len(grid):\n",
        "            neighbours.append((y + i, x))\n",
        "        if -1 < x + i < len(grid[0]):\n",
        "            neighbours.append((y, x + i))\n",
        "        \n",
        "    return neighbours"
      ],
      "metadata": {
        "id": "Ttbsq8U9NkI4"
      },
      "execution_count": 14,
      "outputs": []
    },
    {
      "cell_type": "code",
      "source": [
        "# Testing corner\n",
        "get_neighbours(0,0,test_grid)"
      ],
      "metadata": {
        "colab": {
          "base_uri": "https://localhost:8080/",
          "height": 0
        },
        "id": "gkbbxUjvU7xb",
        "outputId": "3af49e3c-818b-421b-da1d-c9e6cbd6400b"
      },
      "execution_count": 15,
      "outputs": [
        {
          "output_type": "execute_result",
          "data": {
            "text/plain": [
              "[(1, 0), (0, 1)]"
            ]
          },
          "metadata": {},
          "execution_count": 15
        }
      ]
    },
    {
      "cell_type": "code",
      "source": [
        "# Testing middle\n",
        "get_neighbours(5,10,test_grid)"
      ],
      "metadata": {
        "colab": {
          "base_uri": "https://localhost:8080/",
          "height": 0
        },
        "id": "pQRVmU66VHo_",
        "outputId": "89137df8-1d0f-4af6-aee9-699142ea76c1"
      },
      "execution_count": 16,
      "outputs": [
        {
          "output_type": "execute_result",
          "data": {
            "text/plain": [
              "[(4, 10), (5, 9), (6, 10), (5, 11)]"
            ]
          },
          "metadata": {},
          "execution_count": 16
        }
      ]
    },
    {
      "cell_type": "code",
      "source": [
        "# Testing middle\n",
        "get_neighbours(19,9,test_grid)"
      ],
      "metadata": {
        "colab": {
          "base_uri": "https://localhost:8080/",
          "height": 0
        },
        "id": "nPvUNzz2VOHb",
        "outputId": "5ad7f29e-99cf-4cd3-d7f1-d7c84247957f"
      },
      "execution_count": 17,
      "outputs": [
        {
          "output_type": "execute_result",
          "data": {
            "text/plain": [
              "[(18, 9), (19, 8), (19, 10)]"
            ]
          },
          "metadata": {},
          "execution_count": 17
        }
      ]
    },
    {
      "cell_type": "markdown",
      "source": [
        "______________________________________________________________________________"
      ],
      "metadata": {
        "id": "FbyTZNK35WZa"
      }
    },
    {
      "cell_type": "markdown",
      "source": [
        "The below function returns a tuple, composing a list of all navigable squares (non barriers) and a dictionary, where the keys are each navigable coordinate, values a list of each navigable neighbour to that square."
      ],
      "metadata": {
        "id": "etoTusneV-s4"
      }
    },
    {
      "cell_type": "code",
      "source": [
        "def navigable_neighbours(grid):\n",
        "\n",
        "    navigable = []\n",
        "    neighbours = {}\n",
        "    for y in range(len(grid)):\n",
        "        for x in range(len(grid[0])):\n",
        "            if grid[y][x] == 0:\n",
        "                navigable.append((y,x))\n",
        "                neighbours[(y,x)] = [loc for loc in get_neighbours(y,x,grid) if grid[loc[0]][loc[1]] == 0]\n",
        "\n",
        "    return navigable, neighbours"
      ],
      "metadata": {
        "id": "WnI6wHTxNwC0"
      },
      "execution_count": 4,
      "outputs": []
    },
    {
      "cell_type": "code",
      "source": [
        "navigable_neighbours(test_grid)[0]"
      ],
      "metadata": {
        "colab": {
          "base_uri": "https://localhost:8080/",
          "height": 0
        },
        "id": "QUUlMs2VU3hO",
        "outputId": "d904c291-d161-40ca-be72-6cb564b176e3"
      },
      "execution_count": 18,
      "outputs": [
        {
          "output_type": "execute_result",
          "data": {
            "text/plain": [
              "[(0, 0),\n",
              " (0, 5),\n",
              " (0, 6),\n",
              " (0, 7),\n",
              " (0, 8),\n",
              " (0, 10),\n",
              " (0, 11),\n",
              " (0, 12),\n",
              " (0, 13),\n",
              " (0, 15),\n",
              " (0, 16),\n",
              " (0, 17),\n",
              " (0, 19),\n",
              " (1, 0),\n",
              " (1, 1),\n",
              " (1, 3),\n",
              " (1, 4),\n",
              " (1, 5),\n",
              " (1, 6),\n",
              " (1, 7),\n",
              " (1, 8),\n",
              " (1, 12),\n",
              " (1, 13),\n",
              " (1, 14),\n",
              " (1, 15),\n",
              " (1, 17),\n",
              " (1, 19),\n",
              " (2, 0),\n",
              " (2, 1),\n",
              " (2, 2),\n",
              " (2, 3),\n",
              " (2, 4),\n",
              " (2, 5),\n",
              " (2, 6),\n",
              " (2, 7),\n",
              " (2, 10),\n",
              " (2, 11),\n",
              " (2, 12),\n",
              " (2, 13),\n",
              " (2, 14),\n",
              " (2, 15),\n",
              " (2, 17),\n",
              " (2, 19),\n",
              " (3, 0),\n",
              " (3, 3),\n",
              " (3, 4),\n",
              " (3, 5),\n",
              " (3, 6),\n",
              " (3, 7),\n",
              " (3, 10),\n",
              " (3, 11),\n",
              " (3, 12),\n",
              " (3, 13),\n",
              " (3, 14),\n",
              " (3, 15),\n",
              " (3, 16),\n",
              " (3, 17),\n",
              " (3, 19),\n",
              " (4, 3),\n",
              " (4, 4),\n",
              " (4, 6),\n",
              " (4, 7),\n",
              " (4, 9),\n",
              " (4, 10),\n",
              " (4, 11),\n",
              " (4, 12),\n",
              " (4, 13),\n",
              " (4, 14),\n",
              " (4, 15),\n",
              " (4, 16),\n",
              " (4, 17),\n",
              " (4, 18),\n",
              " (4, 19),\n",
              " (5, 0),\n",
              " (5, 1),\n",
              " (5, 2),\n",
              " (5, 3),\n",
              " (5, 4),\n",
              " (5, 5),\n",
              " (5, 6),\n",
              " (5, 7),\n",
              " (5, 9),\n",
              " (5, 10),\n",
              " (5, 11),\n",
              " (5, 12),\n",
              " (5, 13),\n",
              " (5, 14),\n",
              " (5, 15),\n",
              " (5, 18),\n",
              " (5, 19),\n",
              " (6, 0),\n",
              " (6, 1),\n",
              " (6, 2),\n",
              " (6, 3),\n",
              " (6, 4),\n",
              " (6, 5),\n",
              " (6, 6),\n",
              " (6, 7),\n",
              " (6, 8),\n",
              " (6, 9),\n",
              " (6, 10),\n",
              " (6, 12),\n",
              " (6, 13),\n",
              " (6, 14),\n",
              " (6, 15),\n",
              " (6, 16),\n",
              " (6, 17),\n",
              " (7, 0),\n",
              " (7, 1),\n",
              " (7, 2),\n",
              " (7, 3),\n",
              " (7, 4),\n",
              " (7, 5),\n",
              " (7, 6),\n",
              " (7, 10),\n",
              " (7, 11),\n",
              " (7, 12),\n",
              " (7, 13),\n",
              " (7, 14),\n",
              " (7, 15),\n",
              " (7, 16),\n",
              " (7, 19),\n",
              " (8, 0),\n",
              " (8, 1),\n",
              " (8, 3),\n",
              " (8, 4),\n",
              " (8, 7),\n",
              " (8, 8),\n",
              " (8, 9),\n",
              " (8, 10),\n",
              " (8, 11),\n",
              " (8, 12),\n",
              " (8, 13),\n",
              " (8, 14),\n",
              " (8, 15),\n",
              " (8, 16),\n",
              " (8, 17),\n",
              " (9, 0),\n",
              " (9, 1),\n",
              " (9, 3),\n",
              " (9, 4),\n",
              " (9, 5),\n",
              " (9, 6),\n",
              " (9, 7),\n",
              " (9, 8),\n",
              " (9, 9),\n",
              " (9, 10),\n",
              " (9, 11),\n",
              " (9, 12),\n",
              " (9, 13),\n",
              " (9, 14),\n",
              " (9, 15),\n",
              " (9, 16),\n",
              " (9, 17),\n",
              " (9, 18),\n",
              " (9, 19),\n",
              " (10, 3),\n",
              " (10, 4),\n",
              " (10, 5),\n",
              " (10, 6),\n",
              " (10, 7),\n",
              " (10, 11),\n",
              " (10, 12),\n",
              " (10, 13),\n",
              " (10, 14),\n",
              " (10, 15),\n",
              " (10, 16),\n",
              " (10, 17),\n",
              " (10, 18),\n",
              " (11, 2),\n",
              " (11, 3),\n",
              " (11, 4),\n",
              " (11, 5),\n",
              " (11, 6),\n",
              " (11, 7),\n",
              " (11, 9),\n",
              " (11, 10),\n",
              " (11, 11),\n",
              " (11, 12),\n",
              " (11, 13),\n",
              " (11, 14),\n",
              " (11, 15),\n",
              " (11, 16),\n",
              " (11, 17),\n",
              " (11, 18),\n",
              " (11, 19),\n",
              " (12, 1),\n",
              " (12, 8),\n",
              " (12, 10),\n",
              " (12, 11),\n",
              " (12, 13),\n",
              " (12, 14),\n",
              " (12, 15),\n",
              " (12, 16),\n",
              " (12, 17),\n",
              " (13, 1),\n",
              " (13, 2),\n",
              " (13, 3),\n",
              " (13, 4),\n",
              " (13, 5),\n",
              " (13, 6),\n",
              " (13, 7),\n",
              " (13, 8),\n",
              " (13, 10),\n",
              " (13, 11),\n",
              " (13, 13),\n",
              " (13, 14),\n",
              " (13, 15),\n",
              " (14, 0),\n",
              " (14, 1),\n",
              " (14, 2),\n",
              " (14, 3),\n",
              " (14, 4),\n",
              " (14, 5),\n",
              " (14, 6),\n",
              " (14, 7),\n",
              " (14, 8),\n",
              " (14, 10),\n",
              " (14, 11),\n",
              " (14, 16),\n",
              " (14, 17),\n",
              " (14, 18),\n",
              " (14, 19),\n",
              " (15, 0),\n",
              " (15, 1),\n",
              " (15, 2),\n",
              " (15, 3),\n",
              " (15, 4),\n",
              " (15, 5),\n",
              " (15, 6),\n",
              " (15, 7),\n",
              " (15, 10),\n",
              " (15, 11),\n",
              " (15, 12),\n",
              " (15, 13),\n",
              " (15, 14),\n",
              " (15, 15),\n",
              " (15, 16),\n",
              " (15, 17),\n",
              " (15, 18),\n",
              " (15, 19),\n",
              " (16, 1),\n",
              " (16, 2),\n",
              " (16, 3),\n",
              " (16, 4),\n",
              " (16, 5),\n",
              " (16, 6),\n",
              " (16, 7),\n",
              " (16, 8),\n",
              " (16, 10),\n",
              " (16, 11),\n",
              " (16, 12),\n",
              " (16, 13),\n",
              " (16, 14),\n",
              " (16, 15),\n",
              " (16, 16),\n",
              " (16, 17),\n",
              " (16, 18),\n",
              " (16, 19),\n",
              " (17, 1),\n",
              " (17, 3),\n",
              " (17, 4),\n",
              " (17, 5),\n",
              " (17, 6),\n",
              " (17, 7),\n",
              " (17, 8),\n",
              " (17, 9),\n",
              " (17, 10),\n",
              " (17, 11),\n",
              " (17, 12),\n",
              " (17, 13),\n",
              " (17, 14),\n",
              " (17, 15),\n",
              " (17, 16),\n",
              " (17, 17),\n",
              " (17, 18),\n",
              " (17, 19),\n",
              " (18, 1),\n",
              " (18, 3),\n",
              " (18, 4),\n",
              " (18, 5),\n",
              " (18, 6),\n",
              " (18, 7),\n",
              " (18, 8),\n",
              " (18, 9),\n",
              " (18, 10),\n",
              " (18, 11),\n",
              " (18, 12),\n",
              " (18, 13),\n",
              " (18, 14),\n",
              " (18, 15),\n",
              " (18, 16),\n",
              " (18, 17),\n",
              " (18, 18),\n",
              " (18, 19),\n",
              " (19, 0),\n",
              " (19, 1),\n",
              " (19, 2),\n",
              " (19, 3),\n",
              " (19, 4),\n",
              " (19, 5),\n",
              " (19, 7),\n",
              " (19, 8),\n",
              " (19, 9),\n",
              " (19, 10),\n",
              " (19, 11),\n",
              " (19, 12),\n",
              " (19, 13),\n",
              " (19, 14),\n",
              " (19, 15),\n",
              " (19, 16),\n",
              " (19, 17),\n",
              " (19, 18),\n",
              " (19, 19)]"
            ]
          },
          "metadata": {},
          "execution_count": 18
        }
      ]
    },
    {
      "cell_type": "code",
      "source": [
        "navigable_neighbours(test_grid)[1]"
      ],
      "metadata": {
        "colab": {
          "base_uri": "https://localhost:8080/",
          "height": 0
        },
        "id": "mUUzuW-2U1t0",
        "outputId": "288b9cfe-244d-4179-abac-2ba767c0fde8"
      },
      "execution_count": 19,
      "outputs": [
        {
          "output_type": "execute_result",
          "data": {
            "text/plain": [
              "{(0, 0): [(1, 0)],\n",
              " (0, 5): [(1, 5), (0, 6)],\n",
              " (0, 6): [(0, 5), (1, 6), (0, 7)],\n",
              " (0, 7): [(0, 6), (1, 7), (0, 8)],\n",
              " (0, 8): [(0, 7), (1, 8)],\n",
              " (0, 10): [(0, 11)],\n",
              " (0, 11): [(0, 10), (0, 12)],\n",
              " (0, 12): [(0, 11), (1, 12), (0, 13)],\n",
              " (0, 13): [(0, 12), (1, 13)],\n",
              " (0, 15): [(1, 15), (0, 16)],\n",
              " (0, 16): [(0, 15), (0, 17)],\n",
              " (0, 17): [(0, 16), (1, 17)],\n",
              " (0, 19): [(1, 19)],\n",
              " (1, 0): [(0, 0), (2, 0), (1, 1)],\n",
              " (1, 1): [(1, 0), (2, 1)],\n",
              " (1, 3): [(2, 3), (1, 4)],\n",
              " (1, 4): [(1, 3), (2, 4), (1, 5)],\n",
              " (1, 5): [(0, 5), (1, 4), (2, 5), (1, 6)],\n",
              " (1, 6): [(0, 6), (1, 5), (2, 6), (1, 7)],\n",
              " (1, 7): [(0, 7), (1, 6), (2, 7), (1, 8)],\n",
              " (1, 8): [(0, 8), (1, 7)],\n",
              " (1, 12): [(0, 12), (2, 12), (1, 13)],\n",
              " (1, 13): [(0, 13), (1, 12), (2, 13), (1, 14)],\n",
              " (1, 14): [(1, 13), (2, 14), (1, 15)],\n",
              " (1, 15): [(0, 15), (1, 14), (2, 15)],\n",
              " (1, 17): [(0, 17), (2, 17)],\n",
              " (1, 19): [(0, 19), (2, 19)],\n",
              " (2, 0): [(1, 0), (3, 0), (2, 1)],\n",
              " (2, 1): [(1, 1), (2, 0), (2, 2)],\n",
              " (2, 2): [(2, 1), (2, 3)],\n",
              " (2, 3): [(1, 3), (2, 2), (3, 3), (2, 4)],\n",
              " (2, 4): [(1, 4), (2, 3), (3, 4), (2, 5)],\n",
              " (2, 5): [(1, 5), (2, 4), (3, 5), (2, 6)],\n",
              " (2, 6): [(1, 6), (2, 5), (3, 6), (2, 7)],\n",
              " (2, 7): [(1, 7), (2, 6), (3, 7)],\n",
              " (2, 10): [(3, 10), (2, 11)],\n",
              " (2, 11): [(2, 10), (3, 11), (2, 12)],\n",
              " (2, 12): [(1, 12), (2, 11), (3, 12), (2, 13)],\n",
              " (2, 13): [(1, 13), (2, 12), (3, 13), (2, 14)],\n",
              " (2, 14): [(1, 14), (2, 13), (3, 14), (2, 15)],\n",
              " (2, 15): [(1, 15), (2, 14), (3, 15)],\n",
              " (2, 17): [(1, 17), (3, 17)],\n",
              " (2, 19): [(1, 19), (3, 19)],\n",
              " (3, 0): [(2, 0)],\n",
              " (3, 3): [(2, 3), (4, 3), (3, 4)],\n",
              " (3, 4): [(2, 4), (3, 3), (4, 4), (3, 5)],\n",
              " (3, 5): [(2, 5), (3, 4), (3, 6)],\n",
              " (3, 6): [(2, 6), (3, 5), (4, 6), (3, 7)],\n",
              " (3, 7): [(2, 7), (3, 6), (4, 7)],\n",
              " (3, 10): [(2, 10), (4, 10), (3, 11)],\n",
              " (3, 11): [(2, 11), (3, 10), (4, 11), (3, 12)],\n",
              " (3, 12): [(2, 12), (3, 11), (4, 12), (3, 13)],\n",
              " (3, 13): [(2, 13), (3, 12), (4, 13), (3, 14)],\n",
              " (3, 14): [(2, 14), (3, 13), (4, 14), (3, 15)],\n",
              " (3, 15): [(2, 15), (3, 14), (4, 15), (3, 16)],\n",
              " (3, 16): [(3, 15), (4, 16), (3, 17)],\n",
              " (3, 17): [(2, 17), (3, 16), (4, 17)],\n",
              " (3, 19): [(2, 19), (4, 19)],\n",
              " (4, 3): [(3, 3), (5, 3), (4, 4)],\n",
              " (4, 4): [(3, 4), (4, 3), (5, 4)],\n",
              " (4, 6): [(3, 6), (5, 6), (4, 7)],\n",
              " (4, 7): [(3, 7), (4, 6), (5, 7)],\n",
              " (4, 9): [(5, 9), (4, 10)],\n",
              " (4, 10): [(3, 10), (4, 9), (5, 10), (4, 11)],\n",
              " (4, 11): [(3, 11), (4, 10), (5, 11), (4, 12)],\n",
              " (4, 12): [(3, 12), (4, 11), (5, 12), (4, 13)],\n",
              " (4, 13): [(3, 13), (4, 12), (5, 13), (4, 14)],\n",
              " (4, 14): [(3, 14), (4, 13), (5, 14), (4, 15)],\n",
              " (4, 15): [(3, 15), (4, 14), (5, 15), (4, 16)],\n",
              " (4, 16): [(3, 16), (4, 15), (4, 17)],\n",
              " (4, 17): [(3, 17), (4, 16), (4, 18)],\n",
              " (4, 18): [(4, 17), (5, 18), (4, 19)],\n",
              " (4, 19): [(3, 19), (4, 18), (5, 19)],\n",
              " (5, 0): [(6, 0), (5, 1)],\n",
              " (5, 1): [(5, 0), (6, 1), (5, 2)],\n",
              " (5, 2): [(5, 1), (6, 2), (5, 3)],\n",
              " (5, 3): [(4, 3), (5, 2), (6, 3), (5, 4)],\n",
              " (5, 4): [(4, 4), (5, 3), (6, 4), (5, 5)],\n",
              " (5, 5): [(5, 4), (6, 5), (5, 6)],\n",
              " (5, 6): [(4, 6), (5, 5), (6, 6), (5, 7)],\n",
              " (5, 7): [(4, 7), (5, 6), (6, 7)],\n",
              " (5, 9): [(4, 9), (6, 9), (5, 10)],\n",
              " (5, 10): [(4, 10), (5, 9), (6, 10), (5, 11)],\n",
              " (5, 11): [(4, 11), (5, 10), (5, 12)],\n",
              " (5, 12): [(4, 12), (5, 11), (6, 12), (5, 13)],\n",
              " (5, 13): [(4, 13), (5, 12), (6, 13), (5, 14)],\n",
              " (5, 14): [(4, 14), (5, 13), (6, 14), (5, 15)],\n",
              " (5, 15): [(4, 15), (5, 14), (6, 15)],\n",
              " (5, 18): [(4, 18), (5, 19)],\n",
              " (5, 19): [(4, 19), (5, 18)],\n",
              " (6, 0): [(5, 0), (7, 0), (6, 1)],\n",
              " (6, 1): [(5, 1), (6, 0), (7, 1), (6, 2)],\n",
              " (6, 2): [(5, 2), (6, 1), (7, 2), (6, 3)],\n",
              " (6, 3): [(5, 3), (6, 2), (7, 3), (6, 4)],\n",
              " (6, 4): [(5, 4), (6, 3), (7, 4), (6, 5)],\n",
              " (6, 5): [(5, 5), (6, 4), (7, 5), (6, 6)],\n",
              " (6, 6): [(5, 6), (6, 5), (7, 6), (6, 7)],\n",
              " (6, 7): [(5, 7), (6, 6), (6, 8)],\n",
              " (6, 8): [(6, 7), (6, 9)],\n",
              " (6, 9): [(5, 9), (6, 8), (6, 10)],\n",
              " (6, 10): [(5, 10), (6, 9), (7, 10)],\n",
              " (6, 12): [(5, 12), (7, 12), (6, 13)],\n",
              " (6, 13): [(5, 13), (6, 12), (7, 13), (6, 14)],\n",
              " (6, 14): [(5, 14), (6, 13), (7, 14), (6, 15)],\n",
              " (6, 15): [(5, 15), (6, 14), (7, 15), (6, 16)],\n",
              " (6, 16): [(6, 15), (7, 16), (6, 17)],\n",
              " (6, 17): [(6, 16)],\n",
              " (7, 0): [(6, 0), (8, 0), (7, 1)],\n",
              " (7, 1): [(6, 1), (7, 0), (8, 1), (7, 2)],\n",
              " (7, 2): [(6, 2), (7, 1), (7, 3)],\n",
              " (7, 3): [(6, 3), (7, 2), (8, 3), (7, 4)],\n",
              " (7, 4): [(6, 4), (7, 3), (8, 4), (7, 5)],\n",
              " (7, 5): [(6, 5), (7, 4), (7, 6)],\n",
              " (7, 6): [(6, 6), (7, 5)],\n",
              " (7, 10): [(6, 10), (8, 10), (7, 11)],\n",
              " (7, 11): [(7, 10), (8, 11), (7, 12)],\n",
              " (7, 12): [(6, 12), (7, 11), (8, 12), (7, 13)],\n",
              " (7, 13): [(6, 13), (7, 12), (8, 13), (7, 14)],\n",
              " (7, 14): [(6, 14), (7, 13), (8, 14), (7, 15)],\n",
              " (7, 15): [(6, 15), (7, 14), (8, 15), (7, 16)],\n",
              " (7, 16): [(6, 16), (7, 15), (8, 16)],\n",
              " (7, 19): [],\n",
              " (8, 0): [(7, 0), (9, 0), (8, 1)],\n",
              " (8, 1): [(7, 1), (8, 0), (9, 1)],\n",
              " (8, 3): [(7, 3), (9, 3), (8, 4)],\n",
              " (8, 4): [(7, 4), (8, 3), (9, 4)],\n",
              " (8, 7): [(9, 7), (8, 8)],\n",
              " (8, 8): [(8, 7), (9, 8), (8, 9)],\n",
              " (8, 9): [(8, 8), (9, 9), (8, 10)],\n",
              " (8, 10): [(7, 10), (8, 9), (9, 10), (8, 11)],\n",
              " (8, 11): [(7, 11), (8, 10), (9, 11), (8, 12)],\n",
              " (8, 12): [(7, 12), (8, 11), (9, 12), (8, 13)],\n",
              " (8, 13): [(7, 13), (8, 12), (9, 13), (8, 14)],\n",
              " (8, 14): [(7, 14), (8, 13), (9, 14), (8, 15)],\n",
              " (8, 15): [(7, 15), (8, 14), (9, 15), (8, 16)],\n",
              " (8, 16): [(7, 16), (8, 15), (9, 16), (8, 17)],\n",
              " (8, 17): [(8, 16), (9, 17)],\n",
              " (9, 0): [(8, 0), (9, 1)],\n",
              " (9, 1): [(8, 1), (9, 0)],\n",
              " (9, 3): [(8, 3), (10, 3), (9, 4)],\n",
              " (9, 4): [(8, 4), (9, 3), (10, 4), (9, 5)],\n",
              " (9, 5): [(9, 4), (10, 5), (9, 6)],\n",
              " (9, 6): [(9, 5), (10, 6), (9, 7)],\n",
              " (9, 7): [(8, 7), (9, 6), (10, 7), (9, 8)],\n",
              " (9, 8): [(8, 8), (9, 7), (9, 9)],\n",
              " (9, 9): [(8, 9), (9, 8), (9, 10)],\n",
              " (9, 10): [(8, 10), (9, 9), (9, 11)],\n",
              " (9, 11): [(8, 11), (9, 10), (10, 11), (9, 12)],\n",
              " (9, 12): [(8, 12), (9, 11), (10, 12), (9, 13)],\n",
              " (9, 13): [(8, 13), (9, 12), (10, 13), (9, 14)],\n",
              " (9, 14): [(8, 14), (9, 13), (10, 14), (9, 15)],\n",
              " (9, 15): [(8, 15), (9, 14), (10, 15), (9, 16)],\n",
              " (9, 16): [(8, 16), (9, 15), (10, 16), (9, 17)],\n",
              " (9, 17): [(8, 17), (9, 16), (10, 17), (9, 18)],\n",
              " (9, 18): [(9, 17), (10, 18), (9, 19)],\n",
              " (9, 19): [(9, 18)],\n",
              " (10, 3): [(9, 3), (11, 3), (10, 4)],\n",
              " (10, 4): [(9, 4), (10, 3), (11, 4), (10, 5)],\n",
              " (10, 5): [(9, 5), (10, 4), (11, 5), (10, 6)],\n",
              " (10, 6): [(9, 6), (10, 5), (11, 6), (10, 7)],\n",
              " (10, 7): [(9, 7), (10, 6), (11, 7)],\n",
              " (10, 11): [(9, 11), (11, 11), (10, 12)],\n",
              " (10, 12): [(9, 12), (10, 11), (11, 12), (10, 13)],\n",
              " (10, 13): [(9, 13), (10, 12), (11, 13), (10, 14)],\n",
              " (10, 14): [(9, 14), (10, 13), (11, 14), (10, 15)],\n",
              " (10, 15): [(9, 15), (10, 14), (11, 15), (10, 16)],\n",
              " (10, 16): [(9, 16), (10, 15), (11, 16), (10, 17)],\n",
              " (10, 17): [(9, 17), (10, 16), (11, 17), (10, 18)],\n",
              " (10, 18): [(9, 18), (10, 17), (11, 18)],\n",
              " (11, 2): [(11, 3)],\n",
              " (11, 3): [(10, 3), (11, 2), (11, 4)],\n",
              " (11, 4): [(10, 4), (11, 3), (11, 5)],\n",
              " (11, 5): [(10, 5), (11, 4), (11, 6)],\n",
              " (11, 6): [(10, 6), (11, 5), (11, 7)],\n",
              " (11, 7): [(10, 7), (11, 6)],\n",
              " (11, 9): [(11, 10)],\n",
              " (11, 10): [(11, 9), (12, 10), (11, 11)],\n",
              " (11, 11): [(10, 11), (11, 10), (12, 11), (11, 12)],\n",
              " (11, 12): [(10, 12), (11, 11), (11, 13)],\n",
              " (11, 13): [(10, 13), (11, 12), (12, 13), (11, 14)],\n",
              " (11, 14): [(10, 14), (11, 13), (12, 14), (11, 15)],\n",
              " (11, 15): [(10, 15), (11, 14), (12, 15), (11, 16)],\n",
              " (11, 16): [(10, 16), (11, 15), (12, 16), (11, 17)],\n",
              " (11, 17): [(10, 17), (11, 16), (12, 17), (11, 18)],\n",
              " (11, 18): [(10, 18), (11, 17), (11, 19)],\n",
              " (11, 19): [(11, 18)],\n",
              " (12, 1): [(13, 1)],\n",
              " (12, 8): [(13, 8)],\n",
              " (12, 10): [(11, 10), (13, 10), (12, 11)],\n",
              " (12, 11): [(11, 11), (12, 10), (13, 11)],\n",
              " (12, 13): [(11, 13), (13, 13), (12, 14)],\n",
              " (12, 14): [(11, 14), (12, 13), (13, 14), (12, 15)],\n",
              " (12, 15): [(11, 15), (12, 14), (13, 15), (12, 16)],\n",
              " (12, 16): [(11, 16), (12, 15), (12, 17)],\n",
              " (12, 17): [(11, 17), (12, 16)],\n",
              " (13, 1): [(12, 1), (14, 1), (13, 2)],\n",
              " (13, 2): [(13, 1), (14, 2), (13, 3)],\n",
              " (13, 3): [(13, 2), (14, 3), (13, 4)],\n",
              " (13, 4): [(13, 3), (14, 4), (13, 5)],\n",
              " (13, 5): [(13, 4), (14, 5), (13, 6)],\n",
              " (13, 6): [(13, 5), (14, 6), (13, 7)],\n",
              " (13, 7): [(13, 6), (14, 7), (13, 8)],\n",
              " (13, 8): [(12, 8), (13, 7), (14, 8)],\n",
              " (13, 10): [(12, 10), (14, 10), (13, 11)],\n",
              " (13, 11): [(12, 11), (13, 10), (14, 11)],\n",
              " (13, 13): [(12, 13), (13, 14)],\n",
              " (13, 14): [(12, 14), (13, 13), (13, 15)],\n",
              " (13, 15): [(12, 15), (13, 14)],\n",
              " (14, 0): [(15, 0), (14, 1)],\n",
              " (14, 1): [(13, 1), (14, 0), (15, 1), (14, 2)],\n",
              " (14, 2): [(13, 2), (14, 1), (15, 2), (14, 3)],\n",
              " (14, 3): [(13, 3), (14, 2), (15, 3), (14, 4)],\n",
              " (14, 4): [(13, 4), (14, 3), (15, 4), (14, 5)],\n",
              " (14, 5): [(13, 5), (14, 4), (15, 5), (14, 6)],\n",
              " (14, 6): [(13, 6), (14, 5), (15, 6), (14, 7)],\n",
              " (14, 7): [(13, 7), (14, 6), (15, 7), (14, 8)],\n",
              " (14, 8): [(13, 8), (14, 7)],\n",
              " (14, 10): [(13, 10), (15, 10), (14, 11)],\n",
              " (14, 11): [(13, 11), (14, 10), (15, 11)],\n",
              " (14, 16): [(15, 16), (14, 17)],\n",
              " (14, 17): [(14, 16), (15, 17), (14, 18)],\n",
              " (14, 18): [(14, 17), (15, 18), (14, 19)],\n",
              " (14, 19): [(14, 18), (15, 19)],\n",
              " (15, 0): [(14, 0), (15, 1)],\n",
              " (15, 1): [(14, 1), (15, 0), (16, 1), (15, 2)],\n",
              " (15, 2): [(14, 2), (15, 1), (16, 2), (15, 3)],\n",
              " (15, 3): [(14, 3), (15, 2), (16, 3), (15, 4)],\n",
              " (15, 4): [(14, 4), (15, 3), (16, 4), (15, 5)],\n",
              " (15, 5): [(14, 5), (15, 4), (16, 5), (15, 6)],\n",
              " (15, 6): [(14, 6), (15, 5), (16, 6), (15, 7)],\n",
              " (15, 7): [(14, 7), (15, 6), (16, 7)],\n",
              " (15, 10): [(14, 10), (16, 10), (15, 11)],\n",
              " (15, 11): [(14, 11), (15, 10), (16, 11), (15, 12)],\n",
              " (15, 12): [(15, 11), (16, 12), (15, 13)],\n",
              " (15, 13): [(15, 12), (16, 13), (15, 14)],\n",
              " (15, 14): [(15, 13), (16, 14), (15, 15)],\n",
              " (15, 15): [(15, 14), (16, 15), (15, 16)],\n",
              " (15, 16): [(14, 16), (15, 15), (16, 16), (15, 17)],\n",
              " (15, 17): [(14, 17), (15, 16), (16, 17), (15, 18)],\n",
              " (15, 18): [(14, 18), (15, 17), (16, 18), (15, 19)],\n",
              " (15, 19): [(14, 19), (15, 18), (16, 19)],\n",
              " (16, 1): [(15, 1), (17, 1), (16, 2)],\n",
              " (16, 2): [(15, 2), (16, 1), (16, 3)],\n",
              " (16, 3): [(15, 3), (16, 2), (17, 3), (16, 4)],\n",
              " (16, 4): [(15, 4), (16, 3), (17, 4), (16, 5)],\n",
              " (16, 5): [(15, 5), (16, 4), (17, 5), (16, 6)],\n",
              " (16, 6): [(15, 6), (16, 5), (17, 6), (16, 7)],\n",
              " (16, 7): [(15, 7), (16, 6), (17, 7), (16, 8)],\n",
              " (16, 8): [(16, 7), (17, 8)],\n",
              " (16, 10): [(15, 10), (17, 10), (16, 11)],\n",
              " (16, 11): [(15, 11), (16, 10), (17, 11), (16, 12)],\n",
              " (16, 12): [(15, 12), (16, 11), (17, 12), (16, 13)],\n",
              " (16, 13): [(15, 13), (16, 12), (17, 13), (16, 14)],\n",
              " (16, 14): [(15, 14), (16, 13), (17, 14), (16, 15)],\n",
              " (16, 15): [(15, 15), (16, 14), (17, 15), (16, 16)],\n",
              " (16, 16): [(15, 16), (16, 15), (17, 16), (16, 17)],\n",
              " (16, 17): [(15, 17), (16, 16), (17, 17), (16, 18)],\n",
              " (16, 18): [(15, 18), (16, 17), (17, 18), (16, 19)],\n",
              " (16, 19): [(15, 19), (16, 18), (17, 19)],\n",
              " (17, 1): [(16, 1), (18, 1)],\n",
              " (17, 3): [(16, 3), (18, 3), (17, 4)],\n",
              " (17, 4): [(16, 4), (17, 3), (18, 4), (17, 5)],\n",
              " (17, 5): [(16, 5), (17, 4), (18, 5), (17, 6)],\n",
              " (17, 6): [(16, 6), (17, 5), (18, 6), (17, 7)],\n",
              " (17, 7): [(16, 7), (17, 6), (18, 7), (17, 8)],\n",
              " (17, 8): [(16, 8), (17, 7), (18, 8), (17, 9)],\n",
              " (17, 9): [(17, 8), (18, 9), (17, 10)],\n",
              " (17, 10): [(16, 10), (17, 9), (18, 10), (17, 11)],\n",
              " (17, 11): [(16, 11), (17, 10), (18, 11), (17, 12)],\n",
              " (17, 12): [(16, 12), (17, 11), (18, 12), (17, 13)],\n",
              " (17, 13): [(16, 13), (17, 12), (18, 13), (17, 14)],\n",
              " (17, 14): [(16, 14), (17, 13), (18, 14), (17, 15)],\n",
              " (17, 15): [(16, 15), (17, 14), (18, 15), (17, 16)],\n",
              " (17, 16): [(16, 16), (17, 15), (18, 16), (17, 17)],\n",
              " (17, 17): [(16, 17), (17, 16), (18, 17), (17, 18)],\n",
              " (17, 18): [(16, 18), (17, 17), (18, 18), (17, 19)],\n",
              " (17, 19): [(16, 19), (17, 18), (18, 19)],\n",
              " (18, 1): [(17, 1), (19, 1)],\n",
              " (18, 3): [(17, 3), (19, 3), (18, 4)],\n",
              " (18, 4): [(17, 4), (18, 3), (19, 4), (18, 5)],\n",
              " (18, 5): [(17, 5), (18, 4), (19, 5), (18, 6)],\n",
              " (18, 6): [(17, 6), (18, 5), (18, 7)],\n",
              " (18, 7): [(17, 7), (18, 6), (19, 7), (18, 8)],\n",
              " (18, 8): [(17, 8), (18, 7), (19, 8), (18, 9)],\n",
              " (18, 9): [(17, 9), (18, 8), (19, 9), (18, 10)],\n",
              " (18, 10): [(17, 10), (18, 9), (19, 10), (18, 11)],\n",
              " (18, 11): [(17, 11), (18, 10), (19, 11), (18, 12)],\n",
              " (18, 12): [(17, 12), (18, 11), (19, 12), (18, 13)],\n",
              " (18, 13): [(17, 13), (18, 12), (19, 13), (18, 14)],\n",
              " (18, 14): [(17, 14), (18, 13), (19, 14), (18, 15)],\n",
              " (18, 15): [(17, 15), (18, 14), (19, 15), (18, 16)],\n",
              " (18, 16): [(17, 16), (18, 15), (19, 16), (18, 17)],\n",
              " (18, 17): [(17, 17), (18, 16), (19, 17), (18, 18)],\n",
              " (18, 18): [(17, 18), (18, 17), (19, 18), (18, 19)],\n",
              " (18, 19): [(17, 19), (18, 18), (19, 19)],\n",
              " (19, 0): [(19, 1)],\n",
              " (19, 1): [(18, 1), (19, 0), (19, 2)],\n",
              " (19, 2): [(19, 1), (19, 3)],\n",
              " (19, 3): [(18, 3), (19, 2), (19, 4)],\n",
              " (19, 4): [(18, 4), (19, 3), (19, 5)],\n",
              " (19, 5): [(18, 5), (19, 4)],\n",
              " (19, 7): [(18, 7), (19, 8)],\n",
              " (19, 8): [(18, 8), (19, 7), (19, 9)],\n",
              " (19, 9): [(18, 9), (19, 8), (19, 10)],\n",
              " (19, 10): [(18, 10), (19, 9), (19, 11)],\n",
              " (19, 11): [(18, 11), (19, 10), (19, 12)],\n",
              " (19, 12): [(18, 12), (19, 11), (19, 13)],\n",
              " (19, 13): [(18, 13), (19, 12), (19, 14)],\n",
              " (19, 14): [(18, 14), (19, 13), (19, 15)],\n",
              " (19, 15): [(18, 15), (19, 14), (19, 16)],\n",
              " (19, 16): [(18, 16), (19, 15), (19, 17)],\n",
              " (19, 17): [(18, 17), (19, 16), (19, 18)],\n",
              " (19, 18): [(18, 18), (19, 17), (19, 19)],\n",
              " (19, 19): [(18, 19), (19, 18)]}"
            ]
          },
          "metadata": {},
          "execution_count": 19
        }
      ]
    },
    {
      "cell_type": "markdown",
      "source": [
        "______________________________________________________________________________"
      ],
      "metadata": {
        "id": "C8VV1ox_Yh2g"
      }
    },
    {
      "cell_type": "markdown",
      "source": [
        "Below is the logic that finds the most direct route between two points, in the form of a function."
      ],
      "metadata": {
        "id": "9Op9LXHkYSet"
      }
    },
    {
      "cell_type": "code",
      "source": [
        "def navigate(start, end, grid):\n",
        "    # Input, start coordinate, end coordinate and grid\n",
        "    \n",
        "    # Create dictionary of navigable neighbours for each point\n",
        "    neighbours = navigable_neighbours(grid)[1]\n",
        "\n",
        "    # Initiate a list of routes, each route will be in list form representing a\n",
        "    #sequential path to other sqaures. The list is initiated with a trivial \n",
        "    #route describing how to navigate to the start point which obviously,\n",
        "    #contains only the start point.\n",
        "    active_routes = [[start]]\n",
        "    \n",
        "    # Removes the start point from all value lists in the neighbours dictionary.\n",
        "    #we already know how to reach this point and are not intersetd in any other\n",
        "    #routes to this coordinate as they must be longer than the route we have. \n",
        "    for i in neighbours.values():\n",
        "        if start in i:\n",
        "            i.remove(start)\n",
        "\n",
        "    # Initiate another list where all routes that make their way to a dead end \n",
        "    #(square with no remaining navigable neighbours) will be appended to. \n",
        "    primary_routes = []\n",
        "\n",
        "    progressing = True\n",
        "    while progressing:\n",
        "\n",
        "        # Set progressing to False by default.\n",
        "        progressing = False\n",
        "\n",
        "        # Sets a clean list for route building with each loop\n",
        "        route_progression = []\n",
        "\n",
        "        #find navigable options for the current end coordinate of each route.\n",
        "        for route in active_routes:\n",
        "            options = neighbours[route[-1]].copy()\n",
        "            #if a given route has nowhere to proceed. Append it to the primary \n",
        "            #routes list.\n",
        "            if options == []:\n",
        "                primary_routes.append(route)\n",
        "            else:\n",
        "                #if any route has options, set progressing to true to continue \n",
        "                #the overarching while loop.\n",
        "                progressing = True\n",
        "\n",
        "            # For each route (list of sequential coordinates (route seed below))\n",
        "            #, find the options (remaining navigable neighbours) for the final \n",
        "            #coordinate. Duplicate the list for each navigable neighgbour (opt) \n",
        "            #and append a different neighbour to each, creating a new route that \n",
        "            #leads from the start point to each of those neighbours (options).\n",
        "            for opt in options:\n",
        "                \n",
        "                route_seed = route.copy()\n",
        "                route_seed.append(opt)\n",
        "                route_progression.append(route_seed)\n",
        "                \n",
        "                #Once a square has been reached by any route, remove it from all\n",
        "                #navigable neighbours dictionay values. This ensures no less \n",
        "                #direct routes will be made to that coordinate. \n",
        "                for i in neighbours.values():\n",
        "                    if opt in i:\n",
        "                        i.remove(opt) \n",
        "        # The active routes have now been progressed in all feasable directions\n",
        "        #in the route progression list which should now superscede the active \n",
        "        #routes list\n",
        "        active_routes = route_progression\n",
        "    \n",
        "    primary_routes.extend(route_progression)\n",
        "\n",
        "    for i in primary_routes:\n",
        "        if end in i:\n",
        "            for j in range(len(i)):\n",
        "                if i[j] == end:\n",
        "                    return i[:j+1]\n",
        "    \n",
        "    return False, 'No possible route'"
      ],
      "metadata": {
        "id": "gayiktcqN6ol"
      },
      "execution_count": 43,
      "outputs": []
    },
    {
      "cell_type": "code",
      "source": [
        "# Testing navigate which should return a list of sequential coordinates between\n",
        "# start and end\n",
        "start = 0,0\n",
        "end = 17,19\n",
        "navigate(start, end, test_grid)"
      ],
      "metadata": {
        "colab": {
          "base_uri": "https://localhost:8080/",
          "height": 0
        },
        "id": "oUeipW0mxNXV",
        "outputId": "7a2866c3-5971-4755-eae2-02c1fd16499c"
      },
      "execution_count": 50,
      "outputs": [
        {
          "output_type": "execute_result",
          "data": {
            "text/plain": [
              "[(0, 0),\n",
              " (1, 0),\n",
              " (2, 0),\n",
              " (2, 1),\n",
              " (2, 2),\n",
              " (2, 3),\n",
              " (3, 3),\n",
              " (4, 3),\n",
              " (5, 3),\n",
              " (6, 3),\n",
              " (7, 3),\n",
              " (8, 3),\n",
              " (9, 3),\n",
              " (9, 4),\n",
              " (9, 5),\n",
              " (9, 6),\n",
              " (9, 7),\n",
              " (9, 8),\n",
              " (9, 9),\n",
              " (9, 10),\n",
              " (9, 11),\n",
              " (10, 11),\n",
              " (11, 11),\n",
              " (12, 11),\n",
              " (13, 11),\n",
              " (14, 11),\n",
              " (15, 11),\n",
              " (16, 11),\n",
              " (17, 11),\n",
              " (17, 12),\n",
              " (17, 13),\n",
              " (17, 14),\n",
              " (17, 15),\n",
              " (17, 16),\n",
              " (17, 17),\n",
              " (17, 18),\n",
              " (17, 19)]"
            ]
          },
          "metadata": {},
          "execution_count": 50
        }
      ]
    },
    {
      "cell_type": "markdown",
      "source": [
        "______________________________________________________________________________"
      ],
      "metadata": {
        "id": "6xZKrBrx6IF9"
      }
    },
    {
      "cell_type": "markdown",
      "source": [
        "We now need a function that maps the start, end and path onto the network, represented by 3, 2 and 4 respectively. "
      ],
      "metadata": {
        "id": "LXcWln2i6JoN"
      }
    },
    {
      "cell_type": "code",
      "source": [
        "def grid_path(start, end, grid):\n",
        "    \n",
        "    path = navigate(start, end, grid)\n",
        "\n",
        "    if not path[0]:\n",
        "        return False, 'No possible route' \n",
        "\n",
        "    grid_path = copy.deepcopy(grid)\n",
        "\n",
        "    grid_path[start[0]][start[1]] = 3\n",
        "    grid_path[end[0]][end[1]] = 4\n",
        "\n",
        "    for coord in path[1:-1]:\n",
        "        y = coord[0]\n",
        "        x = coord[1]\n",
        "        grid_path[y][x] = 2\n",
        "\n",
        "    return grid_path"
      ],
      "metadata": {
        "id": "AjycJaJeOq-h"
      },
      "execution_count": 44,
      "outputs": []
    },
    {
      "cell_type": "code",
      "source": [
        "# Testing grid_path mapping\n",
        "grid_path(start, end, test_grid)"
      ],
      "metadata": {
        "colab": {
          "base_uri": "https://localhost:8080/",
          "height": 0
        },
        "id": "Wl4Jzz2BOtMw",
        "outputId": "c44fe9a8-ba0a-40a5-cce7-8cbe15db7649"
      },
      "execution_count": 51,
      "outputs": [
        {
          "output_type": "execute_result",
          "data": {
            "text/plain": [
              "[[3, 1, 1, 1, 1, 0, 0, 0, 0, 1, 0, 0, 0, 0, 1, 0, 0, 0, 1, 0],\n",
              " [2, 0, 1, 0, 0, 0, 0, 0, 0, 1, 1, 1, 0, 0, 0, 0, 1, 0, 1, 0],\n",
              " [2, 2, 2, 2, 0, 0, 0, 0, 1, 1, 0, 0, 0, 0, 0, 0, 1, 0, 1, 0],\n",
              " [0, 1, 1, 2, 0, 0, 0, 0, 1, 1, 0, 0, 0, 0, 0, 0, 0, 0, 1, 0],\n",
              " [1, 1, 1, 2, 0, 1, 0, 0, 1, 0, 0, 0, 0, 0, 0, 0, 0, 0, 0, 0],\n",
              " [0, 0, 0, 2, 0, 0, 0, 0, 1, 0, 0, 0, 0, 0, 0, 0, 1, 1, 0, 0],\n",
              " [0, 0, 0, 2, 0, 0, 0, 0, 0, 0, 0, 1, 0, 0, 0, 0, 0, 0, 1, 1],\n",
              " [0, 0, 0, 2, 0, 0, 0, 1, 1, 1, 0, 0, 0, 0, 0, 0, 0, 1, 1, 0],\n",
              " [0, 0, 1, 2, 0, 1, 1, 0, 0, 0, 0, 0, 0, 0, 0, 0, 0, 0, 1, 1],\n",
              " [0, 0, 1, 2, 2, 2, 2, 2, 2, 2, 2, 2, 0, 0, 0, 0, 0, 0, 0, 0],\n",
              " [1, 1, 1, 0, 0, 0, 0, 0, 1, 1, 1, 2, 0, 0, 0, 0, 0, 0, 0, 1],\n",
              " [1, 1, 0, 0, 0, 0, 0, 0, 1, 0, 0, 2, 0, 0, 0, 0, 0, 0, 0, 0],\n",
              " [1, 0, 1, 1, 1, 1, 1, 1, 0, 1, 0, 2, 1, 0, 0, 0, 0, 0, 1, 1],\n",
              " [1, 0, 0, 0, 0, 0, 0, 0, 0, 1, 0, 2, 1, 0, 0, 0, 1, 1, 1, 1],\n",
              " [0, 0, 0, 0, 0, 0, 0, 0, 0, 1, 0, 2, 1, 1, 1, 1, 0, 0, 0, 0],\n",
              " [0, 0, 0, 0, 0, 0, 0, 0, 1, 1, 0, 2, 0, 0, 0, 0, 0, 0, 0, 0],\n",
              " [1, 0, 0, 0, 0, 0, 0, 0, 0, 1, 0, 2, 0, 0, 0, 0, 0, 0, 0, 0],\n",
              " [1, 0, 1, 0, 0, 0, 0, 0, 0, 0, 0, 2, 2, 2, 2, 2, 2, 2, 2, 4],\n",
              " [1, 0, 1, 0, 0, 0, 0, 0, 0, 0, 0, 0, 0, 0, 0, 0, 0, 0, 0, 0],\n",
              " [0, 0, 0, 0, 0, 0, 1, 0, 0, 0, 0, 0, 0, 0, 0, 0, 0, 0, 0, 0]]"
            ]
          },
          "metadata": {},
          "execution_count": 51
        }
      ]
    },
    {
      "cell_type": "code",
      "source": [
        "show_grid(grid_path(start, end, test_grid))"
      ],
      "metadata": {
        "colab": {
          "base_uri": "https://localhost:8080/",
          "height": 880
        },
        "id": "Lpfe2PZ61FsK",
        "outputId": "21bf1587-3bbc-49e4-8d1f-43e086ac6eba"
      },
      "execution_count": 52,
      "outputs": [
        {
          "output_type": "display_data",
          "data": {
            "text/plain": [
              "<Figure size 1080x1080 with 1 Axes>"
            ],
            "image/png": "[encoded data removed]"
          },
          "metadata": {
            "needs_background": "light"
          }
        }
      ]
    },
    {
      "cell_type": "code",
      "source": [
        "# Test for impossible route\n",
        "\n",
        "start = 0,0\n",
        "impossible_end = 7,19\n",
        "show_grid(grid_path(start, impossible_end, test_grid))"
      ],
      "metadata": {
        "colab": {
          "base_uri": "https://localhost:8080/",
          "height": 35
        },
        "id": "MtnobkQ41chX",
        "outputId": "d0cd948c-5d98-4137-e485-2c931dd9df4d"
      },
      "execution_count": 53,
      "outputs": [
        {
          "output_type": "execute_result",
          "data": {
            "text/plain": [
              "'No possible route'"
            ],
            "application/vnd.google.colaboratory.intrinsic+json": {
              "type": "string"
            }
          },
          "metadata": {},
          "execution_count": 53
        }
      ]
    },
    {
      "cell_type": "markdown",
      "source": [
        "______________________________________________________________________________"
      ],
      "metadata": {
        "id": "R4vgMrt2CX-2"
      }
    },
    {
      "cell_type": "markdown",
      "source": [
        "Testing for more complex networks"
      ],
      "metadata": {
        "id": "3cspcF7jCNnl"
      }
    },
    {
      "cell_type": "code",
      "source": [
        "complex_grid = generate_grid(100,100,5)\n",
        "show_grid(complex_grid,(20,20))"
      ],
      "metadata": {
        "colab": {
          "base_uri": "https://localhost:8080/",
          "height": 1152
        },
        "id": "DwiQ5Y5oCHnU",
        "outputId": "c7ab439d-a615-44e6-c766-f4ed6420a865"
      },
      "execution_count": 58,
      "outputs": [
        {
          "output_type": "display_data",
          "data": {
            "text/plain": [
              "<Figure size 1440x1440 with 1 Axes>"
            ],
            "image/png": "[encoded data removed]"
          },
          "metadata": {
            "needs_background": "light"
          }
        }
      ]
    },
    {
      "cell_type": "code",
      "source": [
        "start_complex = 1,19\n",
        "end_complex = 84,88\n",
        "show_grid(grid_path(start_complex, end_complex, complex_grid), (20,20))"
      ],
      "metadata": {
        "colab": {
          "base_uri": "https://localhost:8080/",
          "height": 1000
        },
        "id": "5wAr3wgiGCJL",
        "outputId": "d1640941-ccc1-4e31-86e7-71620fac81f4"
      },
      "execution_count": 61,
      "outputs": [
        {
          "output_type": "display_data",
          "data": {
            "text/plain": [
              "<Figure size 1440x1440 with 1 Axes>"
            ],
            "image/png": "[encoded data removed]"
          },
          "metadata": {
            "needs_background": "light"
          }
        }
      ]
    },
    {
      "cell_type": "code",
      "source": [
        ""
      ],
      "metadata": {
        "id": "Ok8aAiJXHmzv"
      },
      "execution_count": null,
      "outputs": []
    }
  ]
}